{
 "cells": [
  {
   "cell_type": "code",
   "execution_count": 1,
   "id": "2472df23",
   "metadata": {},
   "outputs": [],
   "source": [
    "#imports\n",
    "import matplotlib.pyplot as plt\n",
    "import scipy\n",
    "import astropy.io\n",
    "from astropy.io import fits\n",
    "from astropy import wcs\n",
    "import numpy as np\n",
    "from numpy import append\n",
    "import healpy as hp\n",
    "from cosmology import *\n",
    "from scipy.interpolate import *\n",
    "import pixell\n",
    "from pixell import reproject, enplot, enmap, utils\n",
    "import tarfile\n",
    "import orphics\n",
    "from orphics import catalogs"
   ]
  },
  {
   "cell_type": "code",
   "execution_count": 2,
   "id": "599f6dc3",
   "metadata": {},
   "outputs": [],
   "source": [
    "def load_fits(fits_file,column_names,hdu_num=1,Nmax=None):\n",
    "    hdu = fits.open(fits_file)\n",
    "    columns = {}\n",
    "    for col in column_names:\n",
    "        columns[col] = hdu[hdu_num].data[col][:Nmax]\n",
    "    hdu.close()\n",
    "    return columns"
   ]
  },
  {
   "cell_type": "code",
   "execution_count": 3,
   "id": "098d8ef0",
   "metadata": {},
   "outputs": [],
   "source": [
    "column_names = 'RADeg', 'decDeg', 'SNR'"
   ]
  },
  {
   "cell_type": "code",
   "execution_count": 4,
   "id": "8277a980",
   "metadata": {},
   "outputs": [],
   "source": [
    "PLA = '/home1/mathm/act/hiltonm/cluster_candidates/dr6-3freq-multipass-20220404/dr6-3freq-multipass_optimalCatalog.fits'"
   ]
  },
  {
   "cell_type": "code",
   "execution_count": 5,
   "id": "fa9d45e2",
   "metadata": {},
   "outputs": [],
   "source": [
    "funct = load_fits(PLA, column_names, hdu_num=1,Nmax=None)"
   ]
  },
  {
   "cell_type": "code",
   "execution_count": 6,
   "id": "24250f43",
   "metadata": {},
   "outputs": [
    {
     "data": {
      "text/plain": [
       "{'RADeg': array([4.11930200e-03, 2.08464020e-02, 2.67377905e-02, ...,\n",
       "        3.59954338e+02, 3.59994736e+02, 3.59992188e+02]),\n",
       " 'decDeg': array([ 10.0399687 ,  -9.03331475, -38.62231396, ..., -21.38771626,\n",
       "         -6.40981662, -32.93712566]),\n",
       " 'SNR': array([5.34839148, 4.37888749, 5.66790454, ..., 5.12519299, 5.22445898,\n",
       "        5.94858729])}"
      ]
     },
     "execution_count": 6,
     "metadata": {},
     "output_type": "execute_result"
    }
   ],
   "source": [
    "funct"
   ]
  },
  {
   "cell_type": "code",
   "execution_count": 7,
   "id": "c052ff4b",
   "metadata": {},
   "outputs": [],
   "source": [
    "RA_array = funct['RADeg']\n",
    "dec_array = funct['decDeg']\n",
    "SNR_array = funct['SNR']"
   ]
  },
  {
   "cell_type": "code",
   "execution_count": 8,
   "id": "d999a3e2",
   "metadata": {},
   "outputs": [
    {
     "data": {
      "text/plain": [
       "array([5.34839148, 4.37888749, 5.66790454, ..., 5.12519299, 5.22445898,\n",
       "       5.94858729])"
      ]
     },
     "execution_count": 8,
     "metadata": {},
     "output_type": "execute_result"
    }
   ],
   "source": [
    "SNR_array"
   ]
  },
  {
   "cell_type": "code",
   "execution_count": 9,
   "id": "204b8825",
   "metadata": {},
   "outputs": [
    {
     "data": {
      "text/plain": [
       "array([4.11930200e-03, 2.08464020e-02, 2.67377905e-02, ...,\n",
       "       3.59954338e+02, 3.59994736e+02, 3.59992188e+02])"
      ]
     },
     "execution_count": 9,
     "metadata": {},
     "output_type": "execute_result"
    }
   ],
   "source": [
    "RA_array"
   ]
  },
  {
   "cell_type": "code",
   "execution_count": 10,
   "id": "36bd0609",
   "metadata": {},
   "outputs": [
    {
     "data": {
      "text/plain": [
       "array([5.34839148, 4.37888749, 5.66790454, ..., 5.12519299, 5.22445898,\n",
       "       5.94858729])"
      ]
     },
     "execution_count": 10,
     "metadata": {},
     "output_type": "execute_result"
    }
   ],
   "source": [
    "np.array(SNR_array)"
   ]
  },
  {
   "cell_type": "code",
   "execution_count": 11,
   "id": "e919b7c3",
   "metadata": {},
   "outputs": [],
   "source": [
    "def SNR_selection(list, n):\n",
    "    return list[np.greater(SNR_array, n)]"
   ]
  },
  {
   "cell_type": "code",
   "execution_count": 12,
   "id": "537ebc3b",
   "metadata": {},
   "outputs": [],
   "source": [
    "RA_selected = SNR_selection(RA_array, 5)\n",
    "dec_selected = SNR_selection(dec_array, 5)\n",
    "SNR_selected = SNR_selection(SNR_array, 5)"
   ]
  },
  {
   "cell_type": "code",
   "execution_count": 13,
   "id": "1af59e4d",
   "metadata": {},
   "outputs": [],
   "source": [
    "# Converts colatitude and longitude into declination and right assencion\n",
    "# Theta = colatitude, phi = longitude\n",
    "\n",
    "def read_halo(i):\n",
    "    return dec_selected[i], RA_selected[i]"
   ]
  },
  {
   "cell_type": "code",
   "execution_count": 14,
   "id": "d2ddfa3b",
   "metadata": {},
   "outputs": [],
   "source": [
    "plc_map = hp.read_map('PLA_data.fits')\n",
    "# reproject the Planck map (healpix -> CAR)\n",
    "fshape, fwcs = enmap.fullsky_geometry(res=2.0 * utils.arcmin, proj=\"car\")\n",
    "plc_map = plc_map.astype(np.float64)\n",
    "pmap = reproject.healpix2map(plc_map, fshape, fwcs, lmax=6000, rot=\"gal,equ\")"
   ]
  },
  {
   "cell_type": "code",
   "execution_count": 15,
   "id": "ece6b429",
   "metadata": {},
   "outputs": [],
   "source": [
    "# Creates thumbnail around selected coordinates\n",
    "def thumbnail(i, list, enmap):\n",
    "    coords = list(i)\n",
    "    return reproject.thumbnails(enmap,coords,r=10*utils.arcmin)"
   ]
  },
  {
   "cell_type": "code",
   "execution_count": 16,
   "id": "a8d7afb7",
   "metadata": {},
   "outputs": [
    {
     "data": {
      "text/plain": [
       "<matplotlib.colorbar.Colorbar at 0x2b6f6d8731c0>"
      ]
     },
     "execution_count": 16,
     "metadata": {},
     "output_type": "execute_result"
    },
    {
     "data": {
      "image/png": "[encoded data removed]",
      "text/plain": [
       "<Figure size 640x480 with 2 Axes>"
      ]
     },
     "metadata": {},
     "output_type": "display_data"
    }
   ],
   "source": [
    "plt.imshow(thumbnail(4, read_halo, pmap))\n",
    "plt.colorbar()"
   ]
  },
  {
   "cell_type": "code",
   "execution_count": 17,
   "id": "44f21083",
   "metadata": {},
   "outputs": [],
   "source": [
    "ACT = '/home1/mathm/act/sigurdkn/coadds/dr6v3/act_daynight_f150_map_srcfree.fits'"
   ]
  },
  {
   "cell_type": "code",
   "execution_count": 20,
   "id": "196eb51b",
   "metadata": {},
   "outputs": [],
   "source": [
    "ACTmap = enmap.read_map(ACT)[0]"
   ]
  },
  {
   "cell_type": "code",
   "execution_count": null,
   "id": "d977d8f6",
   "metadata": {},
   "outputs": [],
   "source": [
    "a = thumbnail(2, read_halo, ACTmap)\n",
    "print(a.shape)\n",
    "print(a.dtype)"
   ]
  },
  {
   "cell_type": "code",
   "execution_count": 28,
   "id": "df54518a",
   "metadata": {},
   "outputs": [
    {
     "ename": "KeyboardInterrupt",
     "evalue": "",
     "output_type": "error",
     "traceback": [
      "\u001b[0;31m---------------------------------------------------------------------------\u001b[0m",
      "\u001b[0;31mKeyboardInterrupt\u001b[0m                         Traceback (most recent call last)",
      "Cell \u001b[0;32mIn[28], line 1\u001b[0m\n\u001b[0;32m----> 1\u001b[0m plt\u001b[38;5;241m.\u001b[39mimshow(\u001b[43mthumbnail\u001b[49m\u001b[43m(\u001b[49m\u001b[38;5;241;43m2\u001b[39;49m\u001b[43m,\u001b[49m\u001b[43m \u001b[49m\u001b[43mread_halo\u001b[49m\u001b[43m,\u001b[49m\u001b[43m \u001b[49m\u001b[43mACTmap\u001b[49m\u001b[43m)\u001b[49m)\n\u001b[1;32m      2\u001b[0m plt\u001b[38;5;241m.\u001b[39mcolorbar()\n",
      "Cell \u001b[0;32mIn[15], line 4\u001b[0m, in \u001b[0;36mthumbnail\u001b[0;34m(i, list, enmap)\u001b[0m\n\u001b[1;32m      2\u001b[0m \u001b[38;5;28;01mdef\u001b[39;00m \u001b[38;5;21mthumbnail\u001b[39m(i, \u001b[38;5;28mlist\u001b[39m, enmap):\n\u001b[1;32m      3\u001b[0m     coords \u001b[38;5;241m=\u001b[39m \u001b[38;5;28mlist\u001b[39m(i)\n\u001b[0;32m----> 4\u001b[0m     \u001b[38;5;28;01mreturn\u001b[39;00m \u001b[43mreproject\u001b[49m\u001b[38;5;241;43m.\u001b[39;49m\u001b[43mthumbnails\u001b[49m\u001b[43m(\u001b[49m\u001b[43menmap\u001b[49m\u001b[43m,\u001b[49m\u001b[43mcoords\u001b[49m\u001b[43m,\u001b[49m\u001b[43mr\u001b[49m\u001b[38;5;241;43m=\u001b[39;49m\u001b[38;5;241;43m10\u001b[39;49m\u001b[38;5;241;43m*\u001b[39;49m\u001b[43mutils\u001b[49m\u001b[38;5;241;43m.\u001b[39;49m\u001b[43marcmin\u001b[49m\u001b[43m)\u001b[49m\n",
      "File \u001b[0;32m~/.local/lib/python3.10/site-packages/pixell/reproject.py:91\u001b[0m, in \u001b[0;36mthumbnails\u001b[0;34m(imap, coords, r, res, proj, apod, order, oversample, pol, oshape, owcs, extensive, verbose, filter, pixwin)\u001b[0m\n\u001b[1;32m     89\u001b[0m \u001b[38;5;28;01mif\u001b[39;00m oversample \u001b[38;5;241m>\u001b[39m \u001b[38;5;241m1\u001b[39m:\n\u001b[1;32m     90\u001b[0m \tfshape \u001b[38;5;241m=\u001b[39m utils\u001b[38;5;241m.\u001b[39mnint(np\u001b[38;5;241m.\u001b[39marray(oshape[\u001b[38;5;241m-\u001b[39m\u001b[38;5;241m2\u001b[39m:])\u001b[38;5;241m*\u001b[39moversample)\n\u001b[0;32m---> 91\u001b[0m \tithumb \u001b[38;5;241m=\u001b[39m \u001b[43mithumb\u001b[49m\u001b[38;5;241;43m.\u001b[39;49m\u001b[43mresample\u001b[49m\u001b[43m(\u001b[49m\u001b[43mfshape\u001b[49m\u001b[43m,\u001b[49m\u001b[43m \u001b[49m\u001b[43mmethod\u001b[49m\u001b[38;5;241;43m=\u001b[39;49m\u001b[38;5;124;43m\"\u001b[39;49m\u001b[38;5;124;43mfft\u001b[39;49m\u001b[38;5;124;43m\"\u001b[39;49m\u001b[43m)\u001b[49m\n\u001b[1;32m     92\u001b[0m \u001b[38;5;66;03m# I apologize for the syntax. There should be a better way of doing this\u001b[39;00m\n\u001b[1;32m     93\u001b[0m ipos \u001b[38;5;241m=\u001b[39m coordinates\u001b[38;5;241m.\u001b[39mtransform(\u001b[38;5;124m\"\u001b[39m\u001b[38;5;124mcel\u001b[39m\u001b[38;5;124m\"\u001b[39m, [\u001b[38;5;124m\"\u001b[39m\u001b[38;5;124mcel\u001b[39m\u001b[38;5;124m\"\u001b[39m,[[\u001b[38;5;241m0\u001b[39m,\u001b[38;5;241m0\u001b[39m,coords[si,\u001b[38;5;241m1\u001b[39m],coords[si,\u001b[38;5;241m0\u001b[39m]],\u001b[38;5;28;01mFalse\u001b[39;00m]], opos[::\u001b[38;5;241m-\u001b[39m\u001b[38;5;241m1\u001b[39m], pol\u001b[38;5;241m=\u001b[39mpol)\n",
      "File \u001b[0;32m~/.local/lib/python3.10/site-packages/pixell/enmap.py:90\u001b[0m, in \u001b[0;36mndmap.resample\u001b[0;34m(self, oshape, off, method, mode, corner, order)\u001b[0m\n\u001b[0;32m---> 90\u001b[0m \u001b[38;5;28;01mdef\u001b[39;00m \u001b[38;5;21mresample\u001b[39m(\u001b[38;5;28mself\u001b[39m, oshape, off\u001b[38;5;241m=\u001b[39m(\u001b[38;5;241m0\u001b[39m,\u001b[38;5;241m0\u001b[39m), method\u001b[38;5;241m=\u001b[39m\u001b[38;5;124m\"\u001b[39m\u001b[38;5;124mfft\u001b[39m\u001b[38;5;124m\"\u001b[39m, mode\u001b[38;5;241m=\u001b[39m\u001b[38;5;124m\"\u001b[39m\u001b[38;5;124mwrap\u001b[39m\u001b[38;5;124m\"\u001b[39m, corner\u001b[38;5;241m=\u001b[39m\u001b[38;5;28;01mFalse\u001b[39;00m, order\u001b[38;5;241m=\u001b[39m\u001b[38;5;241m3\u001b[39m): \u001b[38;5;28;01mreturn\u001b[39;00m \u001b[43mresample\u001b[49m\u001b[43m(\u001b[49m\u001b[38;5;28;43mself\u001b[39;49m\u001b[43m,\u001b[49m\u001b[43m \u001b[49m\u001b[43moshape\u001b[49m\u001b[43m,\u001b[49m\u001b[43m \u001b[49m\u001b[43moff\u001b[49m\u001b[38;5;241;43m=\u001b[39;49m\u001b[43moff\u001b[49m\u001b[43m,\u001b[49m\u001b[43m \u001b[49m\u001b[43mmethod\u001b[49m\u001b[38;5;241;43m=\u001b[39;49m\u001b[43mmethod\u001b[49m\u001b[43m,\u001b[49m\u001b[43m \u001b[49m\u001b[43mmode\u001b[49m\u001b[38;5;241;43m=\u001b[39;49m\u001b[43mmode\u001b[49m\u001b[43m,\u001b[49m\u001b[43m \u001b[49m\u001b[43mcorner\u001b[49m\u001b[38;5;241;43m=\u001b[39;49m\u001b[43mcorner\u001b[49m\u001b[43m,\u001b[49m\u001b[43m \u001b[49m\u001b[43morder\u001b[49m\u001b[38;5;241;43m=\u001b[39;49m\u001b[43morder\u001b[49m\u001b[43m)\u001b[49m\n",
      "File \u001b[0;32m~/.local/lib/python3.10/site-packages/pixell/enmap.py:2697\u001b[0m, in \u001b[0;36mresample\u001b[0;34m(map, oshape, off, method, mode, corner, order)\u001b[0m\n\u001b[1;32m   2695\u001b[0m oshape \u001b[38;5;241m=\u001b[39m \u001b[38;5;28mmap\u001b[39m\u001b[38;5;241m.\u001b[39mshape[:\u001b[38;5;241m-\u001b[39m\u001b[38;5;241m2\u001b[39m] \u001b[38;5;241m+\u001b[39m \u001b[38;5;28mtuple\u001b[39m(oshape)[\u001b[38;5;241m-\u001b[39m\u001b[38;5;241m2\u001b[39m:]\n\u001b[1;32m   2696\u001b[0m \u001b[38;5;28;01mif\u001b[39;00m method \u001b[38;5;241m==\u001b[39m \u001b[38;5;124m\"\u001b[39m\u001b[38;5;124mfft\u001b[39m\u001b[38;5;124m\"\u001b[39m:\n\u001b[0;32m-> 2697\u001b[0m \tomap  \u001b[38;5;241m=\u001b[39m ifft(resample_fft(\u001b[43mfft\u001b[49m\u001b[43m(\u001b[49m\u001b[38;5;28;43mmap\u001b[39;49m\u001b[43m,\u001b[49m\u001b[43m \u001b[49m\u001b[43mnormalize\u001b[49m\u001b[38;5;241;43m=\u001b[39;49m\u001b[38;5;28;43;01mFalse\u001b[39;49;00m\u001b[43m)\u001b[49m, oshape, off\u001b[38;5;241m=\u001b[39moff, corner\u001b[38;5;241m=\u001b[39mcorner, norm\u001b[38;5;241m=\u001b[39m\u001b[38;5;241m1\u001b[39m\u001b[38;5;241m/\u001b[39m\u001b[38;5;28mmap\u001b[39m\u001b[38;5;241m.\u001b[39mnpix), normalize\u001b[38;5;241m=\u001b[39m\u001b[38;5;28;01mFalse\u001b[39;00m)\u001b[38;5;241m.\u001b[39mreal\n\u001b[1;32m   2698\u001b[0m \u001b[38;5;28;01melif\u001b[39;00m method \u001b[38;5;241m==\u001b[39m \u001b[38;5;124m\"\u001b[39m\u001b[38;5;124mspline\u001b[39m\u001b[38;5;124m\"\u001b[39m:\n\u001b[1;32m   2699\u001b[0m \towcs \u001b[38;5;241m=\u001b[39m wcsutils\u001b[38;5;241m.\u001b[39mscale(\u001b[38;5;28mmap\u001b[39m\u001b[38;5;241m.\u001b[39mwcs, np\u001b[38;5;241m.\u001b[39marray(oshape[\u001b[38;5;241m-\u001b[39m\u001b[38;5;241m2\u001b[39m:],\u001b[38;5;28mfloat\u001b[39m)\u001b[38;5;241m/\u001b[39m\u001b[38;5;28mmap\u001b[39m\u001b[38;5;241m.\u001b[39mshape[\u001b[38;5;241m-\u001b[39m\u001b[38;5;241m2\u001b[39m:], rowmajor\u001b[38;5;241m=\u001b[39m\u001b[38;5;28;01mTrue\u001b[39;00m, corner\u001b[38;5;241m=\u001b[39mcorner)\n",
      "File \u001b[0;32m~/.local/lib/python3.10/site-packages/pixell/enmap.py:1140\u001b[0m, in \u001b[0;36mfft\u001b[0;34m(emap, omap, nthread, normalize, adjoint_ifft, dct)\u001b[0m\n\u001b[1;32m   1133\u001b[0m \u001b[38;5;250m\u001b[39m\u001b[38;5;124;03m\"\"\"Performs the 2d FFT of the enmap pixels, returning a complex enmap.\u001b[39;00m\n\u001b[1;32m   1134\u001b[0m \u001b[38;5;124;03mIf normalize is \"phy\", \"phys\" or \"physical\", then an additional normalization\u001b[39;00m\n\u001b[1;32m   1135\u001b[0m \u001b[38;5;124;03mis applied such that the binned square of the fourier transform can\u001b[39;00m\n\u001b[1;32m   1136\u001b[0m \u001b[38;5;124;03mbe directly compared to theory (apart from mask corrections)\u001b[39;00m\n\u001b[1;32m   1137\u001b[0m \u001b[38;5;124;03m, i.e., pixel area factors are corrected for.\u001b[39;00m\n\u001b[1;32m   1138\u001b[0m \u001b[38;5;124;03m\"\"\"\u001b[39;00m\n\u001b[1;32m   1139\u001b[0m \u001b[38;5;28;01mif\u001b[39;00m dct: res  \u001b[38;5;241m=\u001b[39m samewcs(enfft\u001b[38;5;241m.\u001b[39mdct(emap,omap,axes\u001b[38;5;241m=\u001b[39m[\u001b[38;5;241m-\u001b[39m\u001b[38;5;241m2\u001b[39m,\u001b[38;5;241m-\u001b[39m\u001b[38;5;241m1\u001b[39m],nthread\u001b[38;5;241m=\u001b[39mnthread), emap)\n\u001b[0;32m-> 1140\u001b[0m \u001b[38;5;28;01melse\u001b[39;00m:   res  \u001b[38;5;241m=\u001b[39m samewcs(\u001b[43menfft\u001b[49m\u001b[38;5;241;43m.\u001b[39;49m\u001b[43mfft\u001b[49m\u001b[43m(\u001b[49m\u001b[43memap\u001b[49m\u001b[43m,\u001b[49m\u001b[43momap\u001b[49m\u001b[43m,\u001b[49m\u001b[43maxes\u001b[49m\u001b[38;5;241;43m=\u001b[39;49m\u001b[43m[\u001b[49m\u001b[38;5;241;43m-\u001b[39;49m\u001b[38;5;241;43m2\u001b[39;49m\u001b[43m,\u001b[49m\u001b[38;5;241;43m-\u001b[39;49m\u001b[38;5;241;43m1\u001b[39;49m\u001b[43m]\u001b[49m\u001b[43m,\u001b[49m\u001b[43mnthread\u001b[49m\u001b[38;5;241;43m=\u001b[39;49m\u001b[43mnthread\u001b[49m\u001b[43m)\u001b[49m, emap)\n\u001b[1;32m   1141\u001b[0m norm \u001b[38;5;241m=\u001b[39m \u001b[38;5;241m1\u001b[39m\n\u001b[1;32m   1142\u001b[0m \u001b[38;5;28;01mif\u001b[39;00m normalize:\n",
      "File \u001b[0;32m~/.local/lib/python3.10/site-packages/pixell/fft.py:133\u001b[0m, in \u001b[0;36mfft\u001b[0;34m(tod, ft, nthread, axes, flags, _direction)\u001b[0m\n\u001b[1;32m    131\u001b[0m \u001b[38;5;28;01melse\u001b[39;00m:\n\u001b[1;32m    132\u001b[0m \tplan \u001b[38;5;241m=\u001b[39m engines[engine]\u001b[38;5;241m.\u001b[39mFFTW(tod, ft, flags\u001b[38;5;241m=\u001b[39mflags, threads\u001b[38;5;241m=\u001b[39mnt, axes\u001b[38;5;241m=\u001b[39maxes, direction\u001b[38;5;241m=\u001b[39m_direction)\n\u001b[0;32m--> 133\u001b[0m \t\u001b[43mplan\u001b[49m\u001b[43m(\u001b[49m\u001b[43m)\u001b[49m\n\u001b[1;32m    134\u001b[0m \u001b[38;5;28;01mreturn\u001b[39;00m ft\n",
      "File \u001b[0;32m~/.local/lib/python3.10/site-packages/pixell/fft.py:19\u001b[0m, in \u001b[0;36mnumpy_FFTW.__call__\u001b[0;34m(self, normalise_idft)\u001b[0m\n\u001b[1;32m     16\u001b[0m \u001b[38;5;28;01mif\u001b[39;00m \u001b[38;5;28mself\u001b[39m\u001b[38;5;241m.\u001b[39mdirection \u001b[38;5;241m==\u001b[39m \u001b[38;5;124m'\u001b[39m\u001b[38;5;124mFFTW_FORWARD\u001b[39m\u001b[38;5;124m'\u001b[39m:\n\u001b[1;32m     17\u001b[0m \t\u001b[38;5;28;01mif\u001b[39;00m \u001b[38;5;28mself\u001b[39m\u001b[38;5;241m.\u001b[39ma\u001b[38;5;241m.\u001b[39mshape \u001b[38;5;241m==\u001b[39m \u001b[38;5;28mself\u001b[39m\u001b[38;5;241m.\u001b[39mb\u001b[38;5;241m.\u001b[39mshape:\n\u001b[1;32m     18\u001b[0m \t\t\u001b[38;5;66;03m# Complex to complex\u001b[39;00m\n\u001b[0;32m---> 19\u001b[0m \t\t\u001b[38;5;28mself\u001b[39m\u001b[38;5;241m.\u001b[39mb[:] \u001b[38;5;241m=\u001b[39m \u001b[43mnp\u001b[49m\u001b[38;5;241;43m.\u001b[39;49m\u001b[43mfft\u001b[49m\u001b[38;5;241;43m.\u001b[39;49m\u001b[43mfftn\u001b[49m\u001b[43m(\u001b[49m\u001b[38;5;28;43mself\u001b[39;49m\u001b[38;5;241;43m.\u001b[39;49m\u001b[43ma\u001b[49m\u001b[43m,\u001b[49m\u001b[43m \u001b[49m\u001b[43maxes\u001b[49m\u001b[38;5;241;43m=\u001b[39;49m\u001b[38;5;28;43mself\u001b[39;49m\u001b[38;5;241;43m.\u001b[39;49m\u001b[43maxes\u001b[49m\u001b[43m)\u001b[49m\n\u001b[1;32m     20\u001b[0m \t\u001b[38;5;28;01melse\u001b[39;00m:\n\u001b[1;32m     21\u001b[0m \t\t\u001b[38;5;66;03m# Real to complex\u001b[39;00m\n\u001b[1;32m     22\u001b[0m \t\t\u001b[38;5;28mself\u001b[39m\u001b[38;5;241m.\u001b[39mb[:] \u001b[38;5;241m=\u001b[39m np\u001b[38;5;241m.\u001b[39mfft\u001b[38;5;241m.\u001b[39mrfftn(\u001b[38;5;28mself\u001b[39m\u001b[38;5;241m.\u001b[39ma, axes\u001b[38;5;241m=\u001b[39m\u001b[38;5;28mself\u001b[39m\u001b[38;5;241m.\u001b[39maxes)\n",
      "File \u001b[0;32m<__array_function__ internals>:200\u001b[0m, in \u001b[0;36mfftn\u001b[0;34m(*args, **kwargs)\u001b[0m\n",
      "File \u001b[0;32m~/.local/lib/python3.10/site-packages/numpy/fft/_pocketfft.py:815\u001b[0m, in \u001b[0;36mfftn\u001b[0;34m(a, s, axes, norm)\u001b[0m\n\u001b[1;32m    715\u001b[0m \u001b[38;5;129m@array_function_dispatch\u001b[39m(_fftn_dispatcher)\n\u001b[1;32m    716\u001b[0m \u001b[38;5;28;01mdef\u001b[39;00m \u001b[38;5;21mfftn\u001b[39m(a, s\u001b[38;5;241m=\u001b[39m\u001b[38;5;28;01mNone\u001b[39;00m, axes\u001b[38;5;241m=\u001b[39m\u001b[38;5;28;01mNone\u001b[39;00m, norm\u001b[38;5;241m=\u001b[39m\u001b[38;5;28;01mNone\u001b[39;00m):\n\u001b[1;32m    717\u001b[0m \u001b[38;5;250m    \u001b[39m\u001b[38;5;124;03m\"\"\"\u001b[39;00m\n\u001b[1;32m    718\u001b[0m \u001b[38;5;124;03m    Compute the N-dimensional discrete Fourier Transform.\u001b[39;00m\n\u001b[1;32m    719\u001b[0m \n\u001b[0;32m   (...)\u001b[0m\n\u001b[1;32m    813\u001b[0m \n\u001b[1;32m    814\u001b[0m \u001b[38;5;124;03m    \"\"\"\u001b[39;00m\n\u001b[0;32m--> 815\u001b[0m     \u001b[38;5;28;01mreturn\u001b[39;00m \u001b[43m_raw_fftnd\u001b[49m\u001b[43m(\u001b[49m\u001b[43ma\u001b[49m\u001b[43m,\u001b[49m\u001b[43m \u001b[49m\u001b[43ms\u001b[49m\u001b[43m,\u001b[49m\u001b[43m \u001b[49m\u001b[43maxes\u001b[49m\u001b[43m,\u001b[49m\u001b[43m \u001b[49m\u001b[43mfft\u001b[49m\u001b[43m,\u001b[49m\u001b[43m \u001b[49m\u001b[43mnorm\u001b[49m\u001b[43m)\u001b[49m\n",
      "File \u001b[0;32m~/.local/lib/python3.10/site-packages/numpy/fft/_pocketfft.py:707\u001b[0m, in \u001b[0;36m_raw_fftnd\u001b[0;34m(a, s, axes, function, norm)\u001b[0m\n\u001b[1;32m    705\u001b[0m itl\u001b[38;5;241m.\u001b[39mreverse()\n\u001b[1;32m    706\u001b[0m \u001b[38;5;28;01mfor\u001b[39;00m ii \u001b[38;5;129;01min\u001b[39;00m itl:\n\u001b[0;32m--> 707\u001b[0m     a \u001b[38;5;241m=\u001b[39m \u001b[43mfunction\u001b[49m\u001b[43m(\u001b[49m\u001b[43ma\u001b[49m\u001b[43m,\u001b[49m\u001b[43m \u001b[49m\u001b[43mn\u001b[49m\u001b[38;5;241;43m=\u001b[39;49m\u001b[43ms\u001b[49m\u001b[43m[\u001b[49m\u001b[43mii\u001b[49m\u001b[43m]\u001b[49m\u001b[43m,\u001b[49m\u001b[43m \u001b[49m\u001b[43maxis\u001b[49m\u001b[38;5;241;43m=\u001b[39;49m\u001b[43maxes\u001b[49m\u001b[43m[\u001b[49m\u001b[43mii\u001b[49m\u001b[43m]\u001b[49m\u001b[43m,\u001b[49m\u001b[43m \u001b[49m\u001b[43mnorm\u001b[49m\u001b[38;5;241;43m=\u001b[39;49m\u001b[43mnorm\u001b[49m\u001b[43m)\u001b[49m\n\u001b[1;32m    708\u001b[0m \u001b[38;5;28;01mreturn\u001b[39;00m a\n",
      "File \u001b[0;32m<__array_function__ internals>:200\u001b[0m, in \u001b[0;36mfft\u001b[0;34m(*args, **kwargs)\u001b[0m\n",
      "File \u001b[0;32m~/.local/lib/python3.10/site-packages/numpy/fft/_pocketfft.py:215\u001b[0m, in \u001b[0;36mfft\u001b[0;34m(a, n, axis, norm)\u001b[0m\n\u001b[1;32m    213\u001b[0m     n \u001b[38;5;241m=\u001b[39m a\u001b[38;5;241m.\u001b[39mshape[axis]\n\u001b[1;32m    214\u001b[0m inv_norm \u001b[38;5;241m=\u001b[39m _get_forward_norm(n, norm)\n\u001b[0;32m--> 215\u001b[0m output \u001b[38;5;241m=\u001b[39m \u001b[43m_raw_fft\u001b[49m\u001b[43m(\u001b[49m\u001b[43ma\u001b[49m\u001b[43m,\u001b[49m\u001b[43m \u001b[49m\u001b[43mn\u001b[49m\u001b[43m,\u001b[49m\u001b[43m \u001b[49m\u001b[43maxis\u001b[49m\u001b[43m,\u001b[49m\u001b[43m \u001b[49m\u001b[38;5;28;43;01mFalse\u001b[39;49;00m\u001b[43m,\u001b[49m\u001b[43m \u001b[49m\u001b[38;5;28;43;01mTrue\u001b[39;49;00m\u001b[43m,\u001b[49m\u001b[43m \u001b[49m\u001b[43minv_norm\u001b[49m\u001b[43m)\u001b[49m\n\u001b[1;32m    216\u001b[0m \u001b[38;5;28;01mreturn\u001b[39;00m output\n",
      "File \u001b[0;32m~/.local/lib/python3.10/site-packages/numpy/fft/_pocketfft.py:70\u001b[0m, in \u001b[0;36m_raw_fft\u001b[0;34m(a, n, axis, is_real, is_forward, inv_norm)\u001b[0m\n\u001b[1;32m     67\u001b[0m         a \u001b[38;5;241m=\u001b[39m z\n\u001b[1;32m     69\u001b[0m \u001b[38;5;28;01mif\u001b[39;00m axis \u001b[38;5;241m==\u001b[39m a\u001b[38;5;241m.\u001b[39mndim\u001b[38;5;241m-\u001b[39m\u001b[38;5;241m1\u001b[39m:\n\u001b[0;32m---> 70\u001b[0m     r \u001b[38;5;241m=\u001b[39m \u001b[43mpfi\u001b[49m\u001b[38;5;241;43m.\u001b[39;49m\u001b[43mexecute\u001b[49m\u001b[43m(\u001b[49m\u001b[43ma\u001b[49m\u001b[43m,\u001b[49m\u001b[43m \u001b[49m\u001b[43mis_real\u001b[49m\u001b[43m,\u001b[49m\u001b[43m \u001b[49m\u001b[43mis_forward\u001b[49m\u001b[43m,\u001b[49m\u001b[43m \u001b[49m\u001b[43mfct\u001b[49m\u001b[43m)\u001b[49m\n\u001b[1;32m     71\u001b[0m \u001b[38;5;28;01melse\u001b[39;00m:\n\u001b[1;32m     72\u001b[0m     a \u001b[38;5;241m=\u001b[39m swapaxes(a, axis, \u001b[38;5;241m-\u001b[39m\u001b[38;5;241m1\u001b[39m)\n",
      "\u001b[0;31mKeyboardInterrupt\u001b[0m: "
     ]
    }
   ],
   "source": [
    "plt.imshow(thumbnail(2, read_halo, ACTmap))\n",
    "plt.colorbar()"
   ]
  },
  {
   "cell_type": "code",
   "execution_count": null,
   "id": "0ade008e",
   "metadata": {},
   "outputs": [],
   "source": []
  }
 ],
 "metadata": {
  "kernelspec": {
   "display_name": "Python 3 (ipykernel)",
   "language": "python",
   "name": "python3"
  },
  "language_info": {
   "codemirror_mode": {
    "name": "ipython",
    "version": 3
   },
   "file_extension": ".py",
   "mimetype": "text/x-python",
   "name": "python",
   "nbconvert_exporter": "python",
   "pygments_lexer": "ipython3",
   "version": "3.10.10"
  }
 },
 "nbformat": 4,
 "nbformat_minor": 5
}
